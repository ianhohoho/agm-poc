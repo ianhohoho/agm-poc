{
 "cells": [
  {
   "cell_type": "code",
   "execution_count": 84,
   "id": "165c5495",
   "metadata": {},
   "outputs": [],
   "source": [
    "import pandas as pd"
   ]
  },
  {
   "cell_type": "code",
   "execution_count": 85,
   "id": "374adb5e",
   "metadata": {},
   "outputs": [],
   "source": [
    "nric_col = 'nric'"
   ]
  },
  {
   "cell_type": "code",
   "execution_count": 86,
   "id": "ee4d54b9",
   "metadata": {},
   "outputs": [
    {
     "data": {
      "text/html": [
       "<div>\n",
       "<style scoped>\n",
       "    .dataframe tbody tr th:only-of-type {\n",
       "        vertical-align: middle;\n",
       "    }\n",
       "\n",
       "    .dataframe tbody tr th {\n",
       "        vertical-align: top;\n",
       "    }\n",
       "\n",
       "    .dataframe thead th {\n",
       "        text-align: right;\n",
       "    }\n",
       "</style>\n",
       "<table border=\"1\" class=\"dataframe\">\n",
       "  <thead>\n",
       "    <tr style=\"text-align: right;\">\n",
       "      <th></th>\n",
       "      <th>Timestamp</th>\n",
       "      <th>nric</th>\n",
       "      <th>1. question a</th>\n",
       "      <th>2. question b</th>\n",
       "      <th>3. choose 3 elders [choice 1]</th>\n",
       "      <th>3. choose 3 elders [choice 2]</th>\n",
       "      <th>3. choose 3 elders [choice 3]</th>\n",
       "    </tr>\n",
       "  </thead>\n",
       "  <tbody>\n",
       "    <tr>\n",
       "      <th>0</th>\n",
       "      <td>2024-06-05 15:42:24.559</td>\n",
       "      <td>s1234567a</td>\n",
       "      <td>yes</td>\n",
       "      <td>no</td>\n",
       "      <td>person a</td>\n",
       "      <td>person b</td>\n",
       "      <td>person c</td>\n",
       "    </tr>\n",
       "    <tr>\n",
       "      <th>1</th>\n",
       "      <td>2024-06-05 15:42:38.290</td>\n",
       "      <td>s23456789b</td>\n",
       "      <td>yes</td>\n",
       "      <td>yes</td>\n",
       "      <td>person a</td>\n",
       "      <td>person c</td>\n",
       "      <td>person e</td>\n",
       "    </tr>\n",
       "    <tr>\n",
       "      <th>2</th>\n",
       "      <td>2024-06-05 15:43:06.433</td>\n",
       "      <td>badnric</td>\n",
       "      <td>no</td>\n",
       "      <td>no</td>\n",
       "      <td>person a</td>\n",
       "      <td>person c</td>\n",
       "      <td>person e</td>\n",
       "    </tr>\n",
       "    <tr>\n",
       "      <th>3</th>\n",
       "      <td>2024-06-05 15:43:24.385</td>\n",
       "      <td>s4567890d</td>\n",
       "      <td>no</td>\n",
       "      <td>yes</td>\n",
       "      <td>person b</td>\n",
       "      <td>person c</td>\n",
       "      <td>person d</td>\n",
       "    </tr>\n",
       "    <tr>\n",
       "      <th>4</th>\n",
       "      <td>2024-06-05 15:43:51.842</td>\n",
       "      <td>s3456789c</td>\n",
       "      <td>yes</td>\n",
       "      <td>no</td>\n",
       "      <td>person b</td>\n",
       "      <td>person d</td>\n",
       "      <td>person c</td>\n",
       "    </tr>\n",
       "  </tbody>\n",
       "</table>\n",
       "</div>"
      ],
      "text/plain": [
       "                Timestamp        nric 1. question a 2. question b  \\\n",
       "0 2024-06-05 15:42:24.559   s1234567a           yes            no   \n",
       "1 2024-06-05 15:42:38.290  s23456789b           yes           yes   \n",
       "2 2024-06-05 15:43:06.433     badnric            no            no   \n",
       "3 2024-06-05 15:43:24.385   s4567890d            no           yes   \n",
       "4 2024-06-05 15:43:51.842   s3456789c           yes            no   \n",
       "\n",
       "  3. choose 3 elders [choice 1] 3. choose 3 elders [choice 2]  \\\n",
       "0                      person a                      person b   \n",
       "1                      person a                      person c   \n",
       "2                      person a                      person c   \n",
       "3                      person b                      person c   \n",
       "4                      person b                      person d   \n",
       "\n",
       "  3. choose 3 elders [choice 3]  \n",
       "0                      person c  \n",
       "1                      person e  \n",
       "2                      person e  \n",
       "3                      person d  \n",
       "4                      person c  "
      ]
     },
     "execution_count": 86,
     "metadata": {},
     "output_type": "execute_result"
    }
   ],
   "source": [
    "response_file = './data/form 1 (Responses).xlsx'\n",
    "response_df = pd.read_excel(response_file)\n",
    "response_df"
   ]
  },
  {
   "cell_type": "code",
   "execution_count": 87,
   "id": "76671320",
   "metadata": {},
   "outputs": [
    {
     "data": {
      "text/html": [
       "<div>\n",
       "<style scoped>\n",
       "    .dataframe tbody tr th:only-of-type {\n",
       "        vertical-align: middle;\n",
       "    }\n",
       "\n",
       "    .dataframe tbody tr th {\n",
       "        vertical-align: top;\n",
       "    }\n",
       "\n",
       "    .dataframe thead th {\n",
       "        text-align: right;\n",
       "    }\n",
       "</style>\n",
       "<table border=\"1\" class=\"dataframe\">\n",
       "  <thead>\n",
       "    <tr style=\"text-align: right;\">\n",
       "      <th></th>\n",
       "      <th>nric</th>\n",
       "      <th>attendance</th>\n",
       "    </tr>\n",
       "  </thead>\n",
       "  <tbody>\n",
       "    <tr>\n",
       "      <th>0</th>\n",
       "      <td>s1234567a</td>\n",
       "      <td>1.0</td>\n",
       "    </tr>\n",
       "    <tr>\n",
       "      <th>1</th>\n",
       "      <td>s2345678b</td>\n",
       "      <td>1.0</td>\n",
       "    </tr>\n",
       "    <tr>\n",
       "      <th>2</th>\n",
       "      <td>t0000000x</td>\n",
       "      <td>0.0</td>\n",
       "    </tr>\n",
       "    <tr>\n",
       "      <th>3</th>\n",
       "      <td>s3456789c</td>\n",
       "      <td>1.0</td>\n",
       "    </tr>\n",
       "    <tr>\n",
       "      <th>4</th>\n",
       "      <td>s4567890d</td>\n",
       "      <td>0.0</td>\n",
       "    </tr>\n",
       "  </tbody>\n",
       "</table>\n",
       "</div>"
      ],
      "text/plain": [
       "        nric  attendance\n",
       "0  s1234567a         1.0\n",
       "1  s2345678b         1.0\n",
       "2  t0000000x         0.0\n",
       "3  s3456789c         1.0\n",
       "4  s4567890d         0.0"
      ]
     },
     "execution_count": 87,
     "metadata": {},
     "output_type": "execute_result"
    }
   ],
   "source": [
    "attendance_file = 'data/nric-attendance-masterlist.xlsx'\n",
    "attendance_df = pd.read_excel(attendance_file)\n",
    "attendance_df = attendance_df[[nric_col, 'attendance']].dropna(axis=0)\n",
    "attendance_df"
   ]
  },
  {
   "cell_type": "code",
   "execution_count": 88,
   "id": "caf7c1de",
   "metadata": {},
   "outputs": [],
   "source": [
    "# do nric filtering\n"
   ]
  },
  {
   "cell_type": "code",
   "execution_count": 89,
   "id": "874ac17a",
   "metadata": {},
   "outputs": [],
   "source": [
    "from collections import Counter"
   ]
  },
  {
   "cell_type": "code",
   "execution_count": 105,
   "id": "6d9da977",
   "metadata": {},
   "outputs": [],
   "source": [
    "questions = [c for c in response_df.columns if c not in ['Timestamp', nric_col]]\n",
    "questions = [[q.split('. ')[0], q] for q in questions]\n",
    "question_nums = [q[0] for q in questions]\n",
    "question_counts = Counter(question_nums)\n",
    "\n",
    "single_choice_questions = [q[0] for q in question_counts.items() if q[1] == 1]\n",
    "multi_choice_questions_with_counts = [q for q in question_counts.items() if q[1] != 1]\n",
    "\n",
    "unique_questions = [[q[0], q[1].split(' [')[0]] for q in questions]\n",
    "unique_questions_dict = dict()\n",
    "for q_num, full_q in unique_questions:\n",
    "    if q_num not in unique_questions_dict:\n",
    "        unique_questions_dict[q_num] = full_q"
   ]
  },
  {
   "cell_type": "code",
   "execution_count": 107,
   "id": "931b8f2e",
   "metadata": {},
   "outputs": [
    {
     "name": "stdout",
     "output_type": "stream",
     "text": [
      "The single choice questions are ['1', '2']\n",
      "The multi choice questions with choice counts are [('3', 3)]\n"
     ]
    }
   ],
   "source": [
    "print(f\"The single choice questions are {single_choice_questions}\")\n",
    "print(f\"The multi choice questions with choice counts are {multi_choice_questions_with_counts}\")"
   ]
  },
  {
   "cell_type": "code",
   "execution_count": 116,
   "id": "8c0e1a7d",
   "metadata": {},
   "outputs": [
    {
     "name": "stdout",
     "output_type": "stream",
     "text": [
      "1. question a\n",
      "\n",
      "[('yes', 3), ('no', 2)]\n",
      "\n",
      "The majority decision is yes with 3 votes.\n",
      "--------------------\n",
      "2. question b\n",
      "\n",
      "[('no', 3), ('yes', 2)]\n",
      "\n",
      "The majority decision is no with 3 votes.\n",
      "--------------------\n",
      "3. choose 3 elders\n",
      "\n",
      "[('person c', 5), ('person a', 3), ('person b', 3), ('person e', 2), ('person d', 2)]\n",
      "\n",
      "The top 3 options with the most votes are ['person c', 'person a', 'person b']\n",
      "--------------------\n"
     ]
    }
   ],
   "source": [
    "# handle ties\n",
    "\n",
    "for q_num, full_q in sorted(unique_questions_dict.items(), key=lambda x: x[0]):\n",
    "    print(full_q)\n",
    "    print()\n",
    "    if q_num in single_choice_questions:\n",
    "        counts = sorted(list(response_df[[full_q]].groupby(full_q).size().items()), key=lambda x: -x[1])\n",
    "        print(counts)\n",
    "        print(f'\\nThe majority decision is {counts[0][0]} with {counts[0][1]} votes.')\n",
    "    elif q_num in [x[0] for x in multi_choice_questions_with_counts]:\n",
    "        question_cols = [q[1] for q in questions if q[0] == q_num]\n",
    "        all_vals = response_df[question_cols].values.flatten()\n",
    "        vals_counter = sorted(Counter(all_vals).items(), key=lambda x: -x[1])\n",
    "        print(vals_counter)\n",
    "        num_choices = [x[1] for x in multi_choice_questions_with_counts if x[0] == q_num][0]\n",
    "        results = vals_counter[:num_choices]\n",
    "        results = [x[0] for x in results]\n",
    "        print(f'\\nThe top {num_choices} options with the most votes are {results}')\n",
    "    else:\n",
    "        print('ERROR')\n",
    "        \n",
    "    print('-' * 20)"
   ]
  }
 ],
 "metadata": {
  "kernelspec": {
   "display_name": "agm-poc",
   "language": "python",
   "name": "agm-poc"
  },
  "language_info": {
   "codemirror_mode": {
    "name": "ipython",
    "version": 3
   },
   "file_extension": ".py",
   "mimetype": "text/x-python",
   "name": "python",
   "nbconvert_exporter": "python",
   "pygments_lexer": "ipython3",
   "version": "3.12.2"
  }
 },
 "nbformat": 4,
 "nbformat_minor": 5
}
